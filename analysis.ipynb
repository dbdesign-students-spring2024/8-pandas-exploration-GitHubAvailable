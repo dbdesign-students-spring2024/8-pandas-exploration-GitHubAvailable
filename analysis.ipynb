{
 "cells": [
  {
   "cell_type": "markdown",
   "metadata": {},
   "source": [
    "# pandas exploration\n",
    "In this assignment you will select a data set and do some munging and analysis of it using `pandas`, Jupyter Notebooks, and associated Python-centric data science tools."
   ]
  },
  {
   "attachments": {},
   "cell_type": "markdown",
   "metadata": {},
   "source": [
    "## Set up environment"
   ]
  },
  {
   "attachments": {},
   "cell_type": "markdown",
   "metadata": {},
   "source": [
    "The following lines ensure that `numpy` and `pandas` are installed in the notebook environment.  Depending on your system, this may not be necessary and may be removed."
   ]
  },
  {
   "cell_type": "code",
   "execution_count": null,
   "metadata": {},
   "outputs": [],
   "source": [
    "%pip install numpy\n",
    "%pip install pandas"
   ]
  },
  {
   "cell_type": "markdown",
   "metadata": {},
   "source": [
    "Import the core data science libraries:"
   ]
  },
  {
   "cell_type": "code",
   "execution_count": 11,
   "metadata": {},
   "outputs": [],
   "source": [
    "%matplotlib inline\n",
    "from matplotlib import pyplot as plt\n",
    "import numpy as np\n",
    "import pandas as pd\n",
    "from datetime import date"
   ]
  },
  {
   "cell_type": "markdown",
   "metadata": {},
   "source": [
    "## Import the raw data\n",
    "In this section, you will import the raw data into a `pandas` DataFrame."
   ]
  },
  {
   "cell_type": "markdown",
   "metadata": {},
   "source": [
    "This exercise uses [U.S. Treasury-Owned Gold](./data/treas_gold_all.csv), downloaded from [Fiscal Data](https://fiscaldata.treasury.gov/datasets/status-report-government-gold-reserve/u-s-treasury-owned-gold) as a CSV file at Feburary 27, 2024."
   ]
  },
  {
   "cell_type": "code",
   "execution_count": 3,
   "metadata": {},
   "outputs": [],
   "source": [
    "# place your code into this Code cell\n",
    "df: pd.DataFrame = pd.read_csv(\"./data/treas_gold_all.csv\")"
   ]
  },
  {
   "cell_type": "markdown",
   "metadata": {},
   "source": [
    "## Data inspection\n",
    "In this section, you will show enough of your data for a viewer to get a general sense of how the data is structured and any unique features of it.  Complete each of the indicated tasks in a Code cell, making sure to include a Markdown cell above each Code cell that explains what is being shown by the code.  \n",
    "- Show 5 rows, selected at random, from the data set.\n",
    "- Show each of the column names and their data types.\n",
    "- Show any unique features of your chosen data set.\n",
    "\n",
    "Feel free to add as many additional cells as you need to help explain the raw data."
   ]
  },
  {
   "cell_type": "markdown",
   "metadata": {},
   "source": [
    "### A Brief Inspection of the Dataset\n",
    "The following code uses `df.sample` function with parameter `n=5` to display `5` random records from the entrie dataset."
   ]
  },
  {
   "cell_type": "code",
   "execution_count": 3,
   "metadata": {},
   "outputs": [
    {
     "data": {
      "text/html": [
       "<div>\n",
       "<style scoped>\n",
       "    .dataframe tbody tr th:only-of-type {\n",
       "        vertical-align: middle;\n",
       "    }\n",
       "\n",
       "    .dataframe tbody tr th {\n",
       "        vertical-align: top;\n",
       "    }\n",
       "\n",
       "    .dataframe thead th {\n",
       "        text-align: right;\n",
       "    }\n",
       "</style>\n",
       "<table border=\"1\" class=\"dataframe\">\n",
       "  <thead>\n",
       "    <tr style=\"text-align: right;\">\n",
       "      <th></th>\n",
       "      <th>Record Date</th>\n",
       "      <th>Facility Description</th>\n",
       "      <th>Form Description</th>\n",
       "      <th>Location Description</th>\n",
       "      <th>Fine Troy Ounces</th>\n",
       "      <th>Book Value</th>\n",
       "      <th>Source Line Number</th>\n",
       "      <th>Fiscal Year</th>\n",
       "      <th>Fiscal Quarter Number</th>\n",
       "      <th>Calendar Year</th>\n",
       "      <th>Calendar Quarter Number</th>\n",
       "      <th>Calendar Month Number</th>\n",
       "      <th>Calendar Day Number</th>\n",
       "    </tr>\n",
       "  </thead>\n",
       "  <tbody>\n",
       "    <tr>\n",
       "      <th>593</th>\n",
       "      <td>2017-11-30</td>\n",
       "      <td>Mint Held Gold - Deep Storage</td>\n",
       "      <td>Gold Bullion</td>\n",
       "      <td>Fort Knox, KY</td>\n",
       "      <td>1.473419e+08</td>\n",
       "      <td>6.221097e+09</td>\n",
       "      <td>2</td>\n",
       "      <td>2018</td>\n",
       "      <td>1</td>\n",
       "      <td>2017</td>\n",
       "      <td>4</td>\n",
       "      <td>11</td>\n",
       "      <td>30</td>\n",
       "    </tr>\n",
       "    <tr>\n",
       "      <th>437</th>\n",
       "      <td>2019-07-31</td>\n",
       "      <td>Federal Reserve Bank Held Gold</td>\n",
       "      <td>Gold Bullion</td>\n",
       "      <td>Federal Reserve Banks - Display</td>\n",
       "      <td>1.993321e+03</td>\n",
       "      <td>8.416240e+04</td>\n",
       "      <td>6</td>\n",
       "      <td>2019</td>\n",
       "      <td>4</td>\n",
       "      <td>2019</td>\n",
       "      <td>3</td>\n",
       "      <td>7</td>\n",
       "      <td>31</td>\n",
       "    </tr>\n",
       "    <tr>\n",
       "      <th>769</th>\n",
       "      <td>2016-01-31</td>\n",
       "      <td>Mint Held Gold - Deep Storage</td>\n",
       "      <td>Gold Bullion</td>\n",
       "      <td>Fort Knox, KY</td>\n",
       "      <td>1.473419e+08</td>\n",
       "      <td>6.221097e+09</td>\n",
       "      <td>2</td>\n",
       "      <td>2016</td>\n",
       "      <td>2</td>\n",
       "      <td>2016</td>\n",
       "      <td>1</td>\n",
       "      <td>1</td>\n",
       "      <td>31</td>\n",
       "    </tr>\n",
       "    <tr>\n",
       "      <th>288</th>\n",
       "      <td>2021-01-31</td>\n",
       "      <td>Federal Reserve Bank Held Gold</td>\n",
       "      <td>Gold Bullion</td>\n",
       "      <td>Federal Reserve Banks - Display</td>\n",
       "      <td>1.993321e+03</td>\n",
       "      <td>8.416240e+04</td>\n",
       "      <td>6</td>\n",
       "      <td>2021</td>\n",
       "      <td>2</td>\n",
       "      <td>2021</td>\n",
       "      <td>1</td>\n",
       "      <td>1</td>\n",
       "      <td>31</td>\n",
       "    </tr>\n",
       "    <tr>\n",
       "      <th>451</th>\n",
       "      <td>2019-05-31</td>\n",
       "      <td>Federal Reserve Bank Held Gold</td>\n",
       "      <td>Gold Coins</td>\n",
       "      <td>Federal Reserve Banks - Display</td>\n",
       "      <td>3.774340e+02</td>\n",
       "      <td>1.593611e+04</td>\n",
       "      <td>8</td>\n",
       "      <td>2019</td>\n",
       "      <td>3</td>\n",
       "      <td>2019</td>\n",
       "      <td>2</td>\n",
       "      <td>5</td>\n",
       "      <td>31</td>\n",
       "    </tr>\n",
       "  </tbody>\n",
       "</table>\n",
       "</div>"
      ],
      "text/plain": [
       "    Record Date            Facility Description Form Description  \\\n",
       "593  2017-11-30   Mint Held Gold - Deep Storage     Gold Bullion   \n",
       "437  2019-07-31  Federal Reserve Bank Held Gold     Gold Bullion   \n",
       "769  2016-01-31   Mint Held Gold - Deep Storage     Gold Bullion   \n",
       "288  2021-01-31  Federal Reserve Bank Held Gold     Gold Bullion   \n",
       "451  2019-05-31  Federal Reserve Bank Held Gold       Gold Coins   \n",
       "\n",
       "                Location Description  Fine Troy Ounces    Book Value  \\\n",
       "593                    Fort Knox, KY      1.473419e+08  6.221097e+09   \n",
       "437  Federal Reserve Banks - Display      1.993321e+03  8.416240e+04   \n",
       "769                    Fort Knox, KY      1.473419e+08  6.221097e+09   \n",
       "288  Federal Reserve Banks - Display      1.993321e+03  8.416240e+04   \n",
       "451  Federal Reserve Banks - Display      3.774340e+02  1.593611e+04   \n",
       "\n",
       "     Source Line Number  Fiscal Year  Fiscal Quarter Number  Calendar Year  \\\n",
       "593                   2         2018                      1           2017   \n",
       "437                   6         2019                      4           2019   \n",
       "769                   2         2016                      2           2016   \n",
       "288                   6         2021                      2           2021   \n",
       "451                   8         2019                      3           2019   \n",
       "\n",
       "     Calendar Quarter Number  Calendar Month Number  Calendar Day Number  \n",
       "593                        4                     11                   30  \n",
       "437                        3                      7                   31  \n",
       "769                        1                      1                   31  \n",
       "288                        1                      1                   31  \n",
       "451                        2                      5                   31  "
      ]
     },
     "execution_count": 3,
     "metadata": {},
     "output_type": "execute_result"
    }
   ],
   "source": [
    "# Show 5 random rows of the dataset.\n",
    "df.sample(n=5)"
   ]
  },
  {
   "cell_type": "markdown",
   "metadata": {},
   "source": [
    "### Each Column and their Datatypes\n",
    "The following code calls `df.types` attribute to get the list of all column name with their datatypes."
   ]
  },
  {
   "cell_type": "code",
   "execution_count": 4,
   "metadata": {},
   "outputs": [
    {
     "data": {
      "text/plain": [
       "Record Date                 object\n",
       "Facility Description        object\n",
       "Form Description            object\n",
       "Location Description        object\n",
       "Fine Troy Ounces           float64\n",
       "Book Value                 float64\n",
       "Source Line Number           int64\n",
       "Fiscal Year                  int64\n",
       "Fiscal Quarter Number        int64\n",
       "Calendar Year                int64\n",
       "Calendar Quarter Number      int64\n",
       "Calendar Month Number        int64\n",
       "Calendar Day Number          int64\n",
       "dtype: object"
      ]
     },
     "execution_count": 4,
     "metadata": {},
     "output_type": "execute_result"
    }
   ],
   "source": [
    "# Show each columns and their datatypes.\n",
    "df.dtypes"
   ]
  },
  {
   "cell_type": "markdown",
   "metadata": {},
   "source": [
    "### Unique Features\n",
    "#### Metadata\n",
    "`df.info` gives a summary of metadata of the entire dataset, which shows that **the dataset contains 13 columns and 960 records in total**.\n",
    "\n",
    "The summary also shows several special features:\n",
    "1. **No Empty Field** - Each column has exactly 960 non-null records, the same number of total records.\n",
    "2. **Date Recording** - Date is represented in 2 ways. One is a combined format stored in column `Record Date`, the other is stored separately, with year in `Calendar Year`, month in `Calendar Month Number`, and day in `Calendar Day Number`. Their format difference will be explored in [Date Presentation Format](#date-presentation-format).\n",
    "3. **Presence of Quarter Number** - Asides from date, the dataset also include columns that stores the quarter when the record was entered (a special feature for datasets about budgets or economics).\n",
    "4. **Year and Quarter Numbers** - This dataset also records both year and quarter number in 2 ways: one is marked with \"fiscal\" (column `Fiscal Year`, `Fiscal Quarter Number`); the other is marked with \"calendar\" (column `Calendar Year` and `Calendar Quarter Number`). Their difference will be explored in [Year and Quarter Numbers](#year-and-quarter-numbers)."
   ]
  },
  {
   "cell_type": "code",
   "execution_count": 5,
   "metadata": {},
   "outputs": [
    {
     "name": "stdout",
     "output_type": "stream",
     "text": [
      "<class 'pandas.core.frame.DataFrame'>\n",
      "RangeIndex: 960 entries, 0 to 959\n",
      "Data columns (total 13 columns):\n",
      " #   Column                   Non-Null Count  Dtype  \n",
      "---  ------                   --------------  -----  \n",
      " 0   Record Date              960 non-null    object \n",
      " 1   Facility Description     960 non-null    object \n",
      " 2   Form Description         960 non-null    object \n",
      " 3   Location Description     960 non-null    object \n",
      " 4   Fine Troy Ounces         960 non-null    float64\n",
      " 5   Book Value               960 non-null    float64\n",
      " 6   Source Line Number       960 non-null    int64  \n",
      " 7   Fiscal Year              960 non-null    int64  \n",
      " 8   Fiscal Quarter Number    960 non-null    int64  \n",
      " 9   Calendar Year            960 non-null    int64  \n",
      " 10  Calendar Quarter Number  960 non-null    int64  \n",
      " 11  Calendar Month Number    960 non-null    int64  \n",
      " 12  Calendar Day Number      960 non-null    int64  \n",
      "dtypes: float64(2), int64(7), object(4)\n",
      "memory usage: 97.6+ KB\n"
     ]
    }
   ],
   "source": [
    "# Show unique features.\n",
    "# Features from Metadata\n",
    "df.info()"
   ]
  },
  {
   "cell_type": "markdown",
   "metadata": {},
   "source": [
    "#### Date Presentation Format\n",
    "The following code shows column `Record Date`, `Calendar Year`, `Calendar Month Number`, and `Calendar Day Number` for a few randomly choosen records. Observe that *for each record, both row represents the same date*. Is this the same for all records?"
   ]
  },
  {
   "cell_type": "code",
   "execution_count": 6,
   "metadata": {},
   "outputs": [
    {
     "data": {
      "text/html": [
       "<div>\n",
       "<style scoped>\n",
       "    .dataframe tbody tr th:only-of-type {\n",
       "        vertical-align: middle;\n",
       "    }\n",
       "\n",
       "    .dataframe tbody tr th {\n",
       "        vertical-align: top;\n",
       "    }\n",
       "\n",
       "    .dataframe thead th {\n",
       "        text-align: right;\n",
       "    }\n",
       "</style>\n",
       "<table border=\"1\" class=\"dataframe\">\n",
       "  <thead>\n",
       "    <tr style=\"text-align: right;\">\n",
       "      <th></th>\n",
       "      <th>Record Date</th>\n",
       "      <th>Calendar Year</th>\n",
       "      <th>Calendar Month Number</th>\n",
       "      <th>Calendar Day Number</th>\n",
       "    </tr>\n",
       "  </thead>\n",
       "  <tbody>\n",
       "    <tr>\n",
       "      <th>617</th>\n",
       "      <td>2017-08-31</td>\n",
       "      <td>2017</td>\n",
       "      <td>8</td>\n",
       "      <td>31</td>\n",
       "    </tr>\n",
       "    <tr>\n",
       "      <th>654</th>\n",
       "      <td>2017-04-30</td>\n",
       "      <td>2017</td>\n",
       "      <td>4</td>\n",
       "      <td>30</td>\n",
       "    </tr>\n",
       "    <tr>\n",
       "      <th>888</th>\n",
       "      <td>2014-10-31</td>\n",
       "      <td>2014</td>\n",
       "      <td>10</td>\n",
       "      <td>31</td>\n",
       "    </tr>\n",
       "    <tr>\n",
       "      <th>39</th>\n",
       "      <td>2023-09-30</td>\n",
       "      <td>2023</td>\n",
       "      <td>9</td>\n",
       "      <td>30</td>\n",
       "    </tr>\n",
       "    <tr>\n",
       "      <th>299</th>\n",
       "      <td>2020-12-31</td>\n",
       "      <td>2020</td>\n",
       "      <td>12</td>\n",
       "      <td>31</td>\n",
       "    </tr>\n",
       "  </tbody>\n",
       "</table>\n",
       "</div>"
      ],
      "text/plain": [
       "    Record Date  Calendar Year  Calendar Month Number  Calendar Day Number\n",
       "617  2017-08-31           2017                      8                   31\n",
       "654  2017-04-30           2017                      4                   30\n",
       "888  2014-10-31           2014                     10                   31\n",
       "39   2023-09-30           2023                      9                   30\n",
       "299  2020-12-31           2020                     12                   31"
      ]
     },
     "execution_count": 6,
     "metadata": {},
     "output_type": "execute_result"
    }
   ],
   "source": [
    "# Feature of date presentation.\n",
    "df.sample(n=5)[[\n",
    "    \"Record Date\", \n",
    "    \"Calendar Year\", \n",
    "    \"Calendar Month Number\", \n",
    "    \"Calendar Day Number\"]]"
   ]
  },
  {
   "cell_type": "markdown",
   "metadata": {},
   "source": [
    "The following code verifies that **every record was created on the exact same day the data was collected** as the output table is empty."
   ]
  },
  {
   "cell_type": "code",
   "execution_count": 7,
   "metadata": {},
   "outputs": [
    {
     "data": {
      "text/html": [
       "<div>\n",
       "<style scoped>\n",
       "    .dataframe tbody tr th:only-of-type {\n",
       "        vertical-align: middle;\n",
       "    }\n",
       "\n",
       "    .dataframe tbody tr th {\n",
       "        vertical-align: top;\n",
       "    }\n",
       "\n",
       "    .dataframe thead th {\n",
       "        text-align: right;\n",
       "    }\n",
       "</style>\n",
       "<table border=\"1\" class=\"dataframe\">\n",
       "  <thead>\n",
       "    <tr style=\"text-align: right;\">\n",
       "      <th></th>\n",
       "      <th>Record Date</th>\n",
       "      <th>Calendar Year</th>\n",
       "      <th>Calendar Month Number</th>\n",
       "      <th>Calendar Day Number</th>\n",
       "    </tr>\n",
       "  </thead>\n",
       "  <tbody>\n",
       "  </tbody>\n",
       "</table>\n",
       "</div>"
      ],
      "text/plain": [
       "Empty DataFrame\n",
       "Columns: [Record Date, Calendar Year, Calendar Month Number, Calendar Day Number]\n",
       "Index: []"
      ]
     },
     "execution_count": 7,
     "metadata": {},
     "output_type": "execute_result"
    }
   ],
   "source": [
    "# Search records that have different records and calendar time\n",
    "uneq_rows = [] # store the index of satisfied rows\n",
    "\n",
    "for row_index in df.index:\n",
    "    # Get current row\n",
    "    row = df.loc[row_index]\n",
    "    \n",
    "    # Create calendar date\n",
    "    calendar_date: date\n",
    "    try:\n",
    "        calendar_date = date(row[\"Calendar Year\"], \n",
    "                             row[\"Calendar Month Number\"], \n",
    "                             row[\"Calendar Day Number\"])\n",
    "    except Exception:\n",
    "        # Invalid calendar date\n",
    "        uneq_rows.append(row_index)\n",
    "        continue\n",
    "\n",
    "    # Compare `Record Date` and `calendar_date`\n",
    "    if row[\"Record Date\"] == calendar_date.isoformat():\n",
    "        continue\n",
    "    uneq_rows.append(row_index)\n",
    "\n",
    "# Display satisfied rows\n",
    "df.loc[uneq_rows, \n",
    "   [\n",
    "        \"Record Date\", \n",
    "        \"Calendar Year\", \n",
    "        \"Calendar Month Number\", \n",
    "        \"Calendar Day Number\"\n",
    "    ]\n",
    "]"
   ]
  },
  {
   "cell_type": "markdown",
   "metadata": {},
   "source": [
    "#### Year and Quarter Numbers\n",
    "The following code shows column `Record Date`, `Fiscal Year`, `Calendar Year`, `Fiscal Quarter Number`, and `Calendar Quarter Number` for a few randomly choosen records. Observe that **next fiscal year and its first fiscal quarter starts in October of the current calendar year** (as the 4th calendar quarter corresponds to the 1st fiscal quarter of the next fiscal year in the table shown below)."
   ]
  },
  {
   "cell_type": "code",
   "execution_count": 54,
   "metadata": {},
   "outputs": [
    {
     "data": {
      "text/html": [
       "<div>\n",
       "<style scoped>\n",
       "    .dataframe tbody tr th:only-of-type {\n",
       "        vertical-align: middle;\n",
       "    }\n",
       "\n",
       "    .dataframe tbody tr th {\n",
       "        vertical-align: top;\n",
       "    }\n",
       "\n",
       "    .dataframe thead th {\n",
       "        text-align: right;\n",
       "    }\n",
       "</style>\n",
       "<table border=\"1\" class=\"dataframe\">\n",
       "  <thead>\n",
       "    <tr style=\"text-align: right;\">\n",
       "      <th></th>\n",
       "      <th>Record Date</th>\n",
       "      <th>Fiscal Year</th>\n",
       "      <th>Calendar Year</th>\n",
       "      <th>Fiscal Quarter Number</th>\n",
       "      <th>Calendar Quarter Number</th>\n",
       "    </tr>\n",
       "  </thead>\n",
       "  <tbody>\n",
       "    <tr>\n",
       "      <th>906</th>\n",
       "      <td>2014-08-31</td>\n",
       "      <td>2014</td>\n",
       "      <td>2014</td>\n",
       "      <td>4</td>\n",
       "      <td>3</td>\n",
       "    </tr>\n",
       "    <tr>\n",
       "      <th>217</th>\n",
       "      <td>2021-10-31</td>\n",
       "      <td>2022</td>\n",
       "      <td>2021</td>\n",
       "      <td>1</td>\n",
       "      <td>4</td>\n",
       "    </tr>\n",
       "    <tr>\n",
       "      <th>411</th>\n",
       "      <td>2019-10-31</td>\n",
       "      <td>2020</td>\n",
       "      <td>2019</td>\n",
       "      <td>1</td>\n",
       "      <td>4</td>\n",
       "    </tr>\n",
       "    <tr>\n",
       "      <th>552</th>\n",
       "      <td>2018-04-30</td>\n",
       "      <td>2018</td>\n",
       "      <td>2018</td>\n",
       "      <td>3</td>\n",
       "      <td>2</td>\n",
       "    </tr>\n",
       "    <tr>\n",
       "      <th>416</th>\n",
       "      <td>2019-09-30</td>\n",
       "      <td>2019</td>\n",
       "      <td>2019</td>\n",
       "      <td>4</td>\n",
       "      <td>3</td>\n",
       "    </tr>\n",
       "  </tbody>\n",
       "</table>\n",
       "</div>"
      ],
      "text/plain": [
       "    Record Date  Fiscal Year  Calendar Year  Fiscal Quarter Number  \\\n",
       "906  2014-08-31         2014           2014                      4   \n",
       "217  2021-10-31         2022           2021                      1   \n",
       "411  2019-10-31         2020           2019                      1   \n",
       "552  2018-04-30         2018           2018                      3   \n",
       "416  2019-09-30         2019           2019                      4   \n",
       "\n",
       "     Calendar Quarter Number  \n",
       "906                        3  \n",
       "217                        4  \n",
       "411                        4  \n",
       "552                        2  \n",
       "416                        3  "
      ]
     },
     "execution_count": 54,
     "metadata": {},
     "output_type": "execute_result"
    }
   ],
   "source": [
    "# Feature of Year and Quarter number\n",
    "df.sample(n=5)[[\n",
    "    \"Record Date\", \n",
    "    \"Fiscal Year\", \n",
    "    \"Calendar Year\", \n",
    "    \"Fiscal Quarter Number\", \n",
    "    \"Calendar Quarter Number\"\n",
    "]]"
   ]
  },
  {
   "cell_type": "markdown",
   "metadata": {},
   "source": [
    "## Data munging\n",
    "Place your **data munging** code and documentation within this section.  \n",
    "- Keep each of your Code cells short and focused on a single task.  \n",
    "- Include a Markdown cell above each code cell that describes what task the code within the code cell is performing.\n",
    "- Make as many code cells as you need to complete the munging - a few have been created for you to start with.\n",
    "- Display 5 sample rows of the modified data after each transformation so a viewer can see how the data has changed.\n",
    "\n",
    "**Note**: If you believe that your data set does not require any munging, please explain in detail.  Create Markdown cells that explain your thinking and create Code cells that show any specific structures of the data you refer to in your explanation."
   ]
  },
  {
   "cell_type": "markdown",
   "metadata": {},
   "source": [
    "After careful review, I believe **the current dataset does not require any munging** for following reasons:\n",
    "+ **No Empty Fields** - (as shown in [Metadata](#metadata) above)\n",
    "+ **No Missing Records** - (see [Missing Records Check](#missing-records-check))\n",
    "+ **Fields Normalized, Valid, and Consistent** - (see [Fields Check](#fields-check))\n",
    "+ **No Duplicated Records or Columns** - (see [Duplication Check](#duplication-check))"
   ]
  },
  {
   "cell_type": "markdown",
   "metadata": {},
   "source": [
    "#### Missing Records Check\n",
    "<u>Check if there are missing records</u> by calculating the frequency of each value of record dates. Observing the data, I noticed that there should have exactly `8` records for each `Record Date` based on the combinations of `Form Description` and `Location Description` (as shown below)."
   ]
  },
  {
   "cell_type": "code",
   "execution_count": 8,
   "metadata": {},
   "outputs": [
    {
     "data": {
      "text/html": [
       "<div>\n",
       "<style scoped>\n",
       "    .dataframe tbody tr th:only-of-type {\n",
       "        vertical-align: middle;\n",
       "    }\n",
       "\n",
       "    .dataframe tbody tr th {\n",
       "        vertical-align: top;\n",
       "    }\n",
       "\n",
       "    .dataframe thead th {\n",
       "        text-align: right;\n",
       "    }\n",
       "</style>\n",
       "<table border=\"1\" class=\"dataframe\">\n",
       "  <thead>\n",
       "    <tr style=\"text-align: right;\">\n",
       "      <th></th>\n",
       "      <th>Record Date</th>\n",
       "      <th>Facility Description</th>\n",
       "      <th>Form Description</th>\n",
       "      <th>Location Description</th>\n",
       "      <th>Fine Troy Ounces</th>\n",
       "      <th>Book Value</th>\n",
       "      <th>Source Line Number</th>\n",
       "      <th>Fiscal Year</th>\n",
       "      <th>Fiscal Quarter Number</th>\n",
       "      <th>Calendar Year</th>\n",
       "      <th>Calendar Quarter Number</th>\n",
       "      <th>Calendar Month Number</th>\n",
       "      <th>Calendar Day Number</th>\n",
       "    </tr>\n",
       "  </thead>\n",
       "  <tbody>\n",
       "    <tr>\n",
       "      <th>0</th>\n",
       "      <td>2024-01-31</td>\n",
       "      <td>Mint Held Gold - Deep Storage</td>\n",
       "      <td>Gold Bullion</td>\n",
       "      <td>Denver, CO</td>\n",
       "      <td>4.385371e+07</td>\n",
       "      <td>1.851600e+09</td>\n",
       "      <td>1</td>\n",
       "      <td>2024</td>\n",
       "      <td>2</td>\n",
       "      <td>2024</td>\n",
       "      <td>1</td>\n",
       "      <td>1</td>\n",
       "      <td>31</td>\n",
       "    </tr>\n",
       "    <tr>\n",
       "      <th>1</th>\n",
       "      <td>2024-01-31</td>\n",
       "      <td>Mint Held Gold - Deep Storage</td>\n",
       "      <td>Gold Bullion</td>\n",
       "      <td>Fort Knox, KY</td>\n",
       "      <td>1.473419e+08</td>\n",
       "      <td>6.221097e+09</td>\n",
       "      <td>2</td>\n",
       "      <td>2024</td>\n",
       "      <td>2</td>\n",
       "      <td>2024</td>\n",
       "      <td>1</td>\n",
       "      <td>1</td>\n",
       "      <td>31</td>\n",
       "    </tr>\n",
       "    <tr>\n",
       "      <th>2</th>\n",
       "      <td>2024-01-31</td>\n",
       "      <td>Mint Held Gold - Deep Storage</td>\n",
       "      <td>Gold Bullion</td>\n",
       "      <td>West Point, NY</td>\n",
       "      <td>5.406733e+07</td>\n",
       "      <td>2.282842e+09</td>\n",
       "      <td>3</td>\n",
       "      <td>2024</td>\n",
       "      <td>2</td>\n",
       "      <td>2024</td>\n",
       "      <td>1</td>\n",
       "      <td>1</td>\n",
       "      <td>31</td>\n",
       "    </tr>\n",
       "    <tr>\n",
       "      <th>3</th>\n",
       "      <td>2024-01-31</td>\n",
       "      <td>Mint Held Gold - Working Stock</td>\n",
       "      <td>Gold Coins</td>\n",
       "      <td>All Locations- Coins, blanks, miscellaneous</td>\n",
       "      <td>2.783219e+06</td>\n",
       "      <td>1.175136e+08</td>\n",
       "      <td>4</td>\n",
       "      <td>2024</td>\n",
       "      <td>2</td>\n",
       "      <td>2024</td>\n",
       "      <td>1</td>\n",
       "      <td>1</td>\n",
       "      <td>31</td>\n",
       "    </tr>\n",
       "    <tr>\n",
       "      <th>4</th>\n",
       "      <td>2024-01-31</td>\n",
       "      <td>Federal Reserve Bank Held Gold</td>\n",
       "      <td>Gold Bullion</td>\n",
       "      <td>Federal Reserve Banks - NY Vault</td>\n",
       "      <td>1.337699e+07</td>\n",
       "      <td>5.648059e+08</td>\n",
       "      <td>5</td>\n",
       "      <td>2024</td>\n",
       "      <td>2</td>\n",
       "      <td>2024</td>\n",
       "      <td>1</td>\n",
       "      <td>1</td>\n",
       "      <td>31</td>\n",
       "    </tr>\n",
       "    <tr>\n",
       "      <th>5</th>\n",
       "      <td>2024-01-31</td>\n",
       "      <td>Federal Reserve Bank Held Gold</td>\n",
       "      <td>Gold Bullion</td>\n",
       "      <td>Federal Reserve Banks - Display</td>\n",
       "      <td>1.993321e+03</td>\n",
       "      <td>8.416240e+04</td>\n",
       "      <td>6</td>\n",
       "      <td>2024</td>\n",
       "      <td>2</td>\n",
       "      <td>2024</td>\n",
       "      <td>1</td>\n",
       "      <td>1</td>\n",
       "      <td>31</td>\n",
       "    </tr>\n",
       "    <tr>\n",
       "      <th>6</th>\n",
       "      <td>2024-01-31</td>\n",
       "      <td>Federal Reserve Bank Held Gold</td>\n",
       "      <td>Gold Coins</td>\n",
       "      <td>Federal Reserve Banks - NY Vault</td>\n",
       "      <td>7.345207e+04</td>\n",
       "      <td>3.101308e+06</td>\n",
       "      <td>7</td>\n",
       "      <td>2024</td>\n",
       "      <td>2</td>\n",
       "      <td>2024</td>\n",
       "      <td>1</td>\n",
       "      <td>1</td>\n",
       "      <td>31</td>\n",
       "    </tr>\n",
       "    <tr>\n",
       "      <th>7</th>\n",
       "      <td>2024-01-31</td>\n",
       "      <td>Federal Reserve Bank Held Gold</td>\n",
       "      <td>Gold Coins</td>\n",
       "      <td>Federal Reserve Banks - Display</td>\n",
       "      <td>3.774340e+02</td>\n",
       "      <td>1.593611e+04</td>\n",
       "      <td>8</td>\n",
       "      <td>2024</td>\n",
       "      <td>2</td>\n",
       "      <td>2024</td>\n",
       "      <td>1</td>\n",
       "      <td>1</td>\n",
       "      <td>31</td>\n",
       "    </tr>\n",
       "  </tbody>\n",
       "</table>\n",
       "</div>"
      ],
      "text/plain": [
       "  Record Date            Facility Description Form Description  \\\n",
       "0  2024-01-31   Mint Held Gold - Deep Storage     Gold Bullion   \n",
       "1  2024-01-31   Mint Held Gold - Deep Storage     Gold Bullion   \n",
       "2  2024-01-31   Mint Held Gold - Deep Storage     Gold Bullion   \n",
       "3  2024-01-31  Mint Held Gold - Working Stock       Gold Coins   \n",
       "4  2024-01-31  Federal Reserve Bank Held Gold     Gold Bullion   \n",
       "5  2024-01-31  Federal Reserve Bank Held Gold     Gold Bullion   \n",
       "6  2024-01-31  Federal Reserve Bank Held Gold       Gold Coins   \n",
       "7  2024-01-31  Federal Reserve Bank Held Gold       Gold Coins   \n",
       "\n",
       "                          Location Description  Fine Troy Ounces  \\\n",
       "0                                   Denver, CO      4.385371e+07   \n",
       "1                                Fort Knox, KY      1.473419e+08   \n",
       "2                               West Point, NY      5.406733e+07   \n",
       "3  All Locations- Coins, blanks, miscellaneous      2.783219e+06   \n",
       "4             Federal Reserve Banks - NY Vault      1.337699e+07   \n",
       "5              Federal Reserve Banks - Display      1.993321e+03   \n",
       "6             Federal Reserve Banks - NY Vault      7.345207e+04   \n",
       "7              Federal Reserve Banks - Display      3.774340e+02   \n",
       "\n",
       "     Book Value  Source Line Number  Fiscal Year  Fiscal Quarter Number  \\\n",
       "0  1.851600e+09                   1         2024                      2   \n",
       "1  6.221097e+09                   2         2024                      2   \n",
       "2  2.282842e+09                   3         2024                      2   \n",
       "3  1.175136e+08                   4         2024                      2   \n",
       "4  5.648059e+08                   5         2024                      2   \n",
       "5  8.416240e+04                   6         2024                      2   \n",
       "6  3.101308e+06                   7         2024                      2   \n",
       "7  1.593611e+04                   8         2024                      2   \n",
       "\n",
       "   Calendar Year  Calendar Quarter Number  Calendar Month Number  \\\n",
       "0           2024                        1                      1   \n",
       "1           2024                        1                      1   \n",
       "2           2024                        1                      1   \n",
       "3           2024                        1                      1   \n",
       "4           2024                        1                      1   \n",
       "5           2024                        1                      1   \n",
       "6           2024                        1                      1   \n",
       "7           2024                        1                      1   \n",
       "\n",
       "   Calendar Day Number  \n",
       "0                   31  \n",
       "1                   31  \n",
       "2                   31  \n",
       "3                   31  \n",
       "4                   31  \n",
       "5                   31  \n",
       "6                   31  \n",
       "7                   31  "
      ]
     },
     "execution_count": 8,
     "metadata": {},
     "output_type": "execute_result"
    }
   ],
   "source": [
    "df.head(8)"
   ]
  },
  {
   "cell_type": "markdown",
   "metadata": {},
   "source": [
    "The following code check if each date appears exactly 8 times and return the `Record Date` that has frequency different from `8`. As the output is empty, there is no missing or duplicate records observed from this check."
   ]
  },
  {
   "cell_type": "code",
   "execution_count": 9,
   "metadata": {},
   "outputs": [],
   "source": [
    "for index, freq in enumerate(df[\"Record Date\"].value_counts()):\n",
    "    if freq == 8:\n",
    "        continue\n",
    "    print(f\"{index} has frequency {freq}\")"
   ]
  },
  {
   "cell_type": "markdown",
   "metadata": {},
   "source": [
    "#### Fields Check\n",
    "1. <u>Check Normality of String Fields</u>. The following code calls `value_counts` method to count the frequency of each value in column `Facility Description`, `Form Description`, and `Location Description` (all columns with stirng-type value). As the values are very different from each other, and there is no value with very low frequency, I believe all fields with string-type values are already normalized."
   ]
  },
  {
   "cell_type": "code",
   "execution_count": 10,
   "metadata": {},
   "outputs": [
    {
     "name": "stdout",
     "output_type": "stream",
     "text": [
      "Facility Description\n",
      "Federal Reserve Bank Held Gold    480\n",
      "Mint Held Gold - Deep Storage     360\n",
      "Mint Held Gold - Working Stock    120\n",
      "Name: count, dtype: int64\n",
      "---------------------------------------------------\n",
      "Form Description\n",
      "Gold Bullion    600\n",
      "Gold Coins      360\n",
      "Name: count, dtype: int64\n",
      "---------------------------------------------------\n",
      "Location Description\n",
      "Federal Reserve Banks - NY Vault               240\n",
      "Federal Reserve Banks - Display                240\n",
      "Denver, CO                                     120\n",
      "Fort Knox, KY                                  120\n",
      "West Point, NY                                 120\n",
      "All Locations- Coins, blanks, miscellaneous    120\n",
      "Name: count, dtype: int64\n"
     ]
    }
   ],
   "source": [
    "# Check normality of fields with string value.\n",
    "print(df[\"Facility Description\"].value_counts())\n",
    "\n",
    "print(\"---------------------------------------------------\")\n",
    "print(df[\"Form Description\"].value_counts())\n",
    "\n",
    "print(\"---------------------------------------------------\")\n",
    "print(df[\"Location Description\"].value_counts())"
   ]
  },
  {
   "cell_type": "markdown",
   "metadata": {},
   "source": [
    "2. <u>Check validity of quarter numbers</u> by searching for rows with invalid `Fiscal Quarter Number` or `Calendar Quarter Number`. As there is no records found, all quarter numbers are also valid."
   ]
  },
  {
   "cell_type": "code",
   "execution_count": 11,
   "metadata": {},
   "outputs": [
    {
     "data": {
      "text/html": [
       "<div>\n",
       "<style scoped>\n",
       "    .dataframe tbody tr th:only-of-type {\n",
       "        vertical-align: middle;\n",
       "    }\n",
       "\n",
       "    .dataframe tbody tr th {\n",
       "        vertical-align: top;\n",
       "    }\n",
       "\n",
       "    .dataframe thead th {\n",
       "        text-align: right;\n",
       "    }\n",
       "</style>\n",
       "<table border=\"1\" class=\"dataframe\">\n",
       "  <thead>\n",
       "    <tr style=\"text-align: right;\">\n",
       "      <th></th>\n",
       "      <th>Record Date</th>\n",
       "      <th>Facility Description</th>\n",
       "      <th>Form Description</th>\n",
       "      <th>Location Description</th>\n",
       "      <th>Fine Troy Ounces</th>\n",
       "      <th>Book Value</th>\n",
       "      <th>Source Line Number</th>\n",
       "      <th>Fiscal Year</th>\n",
       "      <th>Fiscal Quarter Number</th>\n",
       "      <th>Calendar Year</th>\n",
       "      <th>Calendar Quarter Number</th>\n",
       "      <th>Calendar Month Number</th>\n",
       "      <th>Calendar Day Number</th>\n",
       "    </tr>\n",
       "  </thead>\n",
       "  <tbody>\n",
       "  </tbody>\n",
       "</table>\n",
       "</div>"
      ],
      "text/plain": [
       "Empty DataFrame\n",
       "Columns: [Record Date, Facility Description, Form Description, Location Description, Fine Troy Ounces, Book Value, Source Line Number, Fiscal Year, Fiscal Quarter Number, Calendar Year, Calendar Quarter Number, Calendar Month Number, Calendar Day Number]\n",
       "Index: []"
      ]
     },
     "execution_count": 11,
     "metadata": {},
     "output_type": "execute_result"
    }
   ],
   "source": [
    "# Check Quarter Validity.\n",
    "df[\n",
    "    (df[\"Fiscal Quarter Number\"] < 0) \n",
    "    | (df[\"Fiscal Quarter Number\"] > 4)\n",
    "    | (df[\"Calendar Quarter Number\"] < 0) \n",
    "    | (df[\"Calendar Quarter Number\"] > 4)\n",
    "]"
   ]
  },
  {
   "cell_type": "markdown",
   "metadata": {},
   "source": [
    "3. Note that the validity of calendar dates (i.e., `Calendar Year`, `Calendar Month Number`, `Calendar Day`) can be deduced as the calendar date for each record is the same as that of `Record Date` and a `date` object can be successfully created (as shown in [Date Presentation Format](#date-presentation-format))."
   ]
  },
  {
   "cell_type": "markdown",
   "metadata": {},
   "source": [
    "4. <u>Check the consistency between \"Fiscal\" and corresponding \"Calender\" columns with the assumption that the next fiscal year starts in the October (fourth calendar quarter) of the current year</u>. The following code searches for such columns that violates this assumption. As the output has no records, \"Fiscal\" and corresponding \"Calender\" columns are already consistent."
   ]
  },
  {
   "cell_type": "code",
   "execution_count": 12,
   "metadata": {},
   "outputs": [
    {
     "data": {
      "text/html": [
       "<div>\n",
       "<style scoped>\n",
       "    .dataframe tbody tr th:only-of-type {\n",
       "        vertical-align: middle;\n",
       "    }\n",
       "\n",
       "    .dataframe tbody tr th {\n",
       "        vertical-align: top;\n",
       "    }\n",
       "\n",
       "    .dataframe thead th {\n",
       "        text-align: right;\n",
       "    }\n",
       "</style>\n",
       "<table border=\"1\" class=\"dataframe\">\n",
       "  <thead>\n",
       "    <tr style=\"text-align: right;\">\n",
       "      <th></th>\n",
       "      <th>Record Date</th>\n",
       "      <th>Fiscal Year</th>\n",
       "      <th>Fiscal Quarter Number</th>\n",
       "      <th>Calendar Year</th>\n",
       "      <th>Calendar Quarter Number</th>\n",
       "    </tr>\n",
       "  </thead>\n",
       "  <tbody>\n",
       "  </tbody>\n",
       "</table>\n",
       "</div>"
      ],
      "text/plain": [
       "Empty DataFrame\n",
       "Columns: [Record Date, Fiscal Year, Fiscal Quarter Number, Calendar Year, Calendar Quarter Number]\n",
       "Index: []"
      ]
     },
     "execution_count": 12,
     "metadata": {},
     "output_type": "execute_result"
    }
   ],
   "source": [
    "# Check between \"Fiscal\" and corresponding \"Calender\" columns.\n",
    "inconsis_rows = []\n",
    "\n",
    "for row_index in df.index:\n",
    "    # Get current row.\n",
    "    row = df.loc[row_index]\n",
    "\n",
    "    # Get target values.\n",
    "    fiscal_year = row[\"Fiscal Year\"]\n",
    "    fiscal_quarter = row[\"Fiscal Quarter Number\"]\n",
    "    calendar_year = row[\"Calendar Year\"]\n",
    "    calendar_quarter = row[\"Calendar Quarter Number\"]\n",
    "\n",
    "    # Check if next fiscal year starts in October.\n",
    "    if fiscal_year == calendar_year \\\n",
    "       and fiscal_quarter == calendar_quarter + 1:\n",
    "        continue\n",
    "    if fiscal_year == calendar_year + 1 \\\n",
    "       and fiscal_quarter == calendar_quarter - 3:\n",
    "        # Start of next fiscal year\n",
    "        continue\n",
    "\n",
    "    inconsis_rows.append(row_index)\n",
    "\n",
    "# Display satisfied rows.\n",
    "df.loc[inconsis_rows, \n",
    "   [\n",
    "        \"Record Date\", \n",
    "        \"Fiscal Year\", \n",
    "        \"Fiscal Quarter Number\", \n",
    "        \"Calendar Year\", \n",
    "        \"Calendar Quarter Number\"\n",
    "    ]\n",
    "]"
   ]
  },
  {
   "cell_type": "markdown",
   "metadata": {},
   "source": [
    "#### Duplication Check\n",
    "1. The output of `df.info` in [Metadata](#metadata) and `df.head` in [A Brief Inspection of the Dataset](#a-brief-inspection-of-the-dataset) have shown that <u>the dataset contains no duplicated columns</u> as no columns have identical names and each column contains very different values."
   ]
  },
  {
   "cell_type": "markdown",
   "metadata": {},
   "source": [
    "2. <u>Check duplication of records</u>. The following code searches for identical records in the dataset and print the index of rows with duplications. An empty output indicates no duplication in rows."
   ]
  },
  {
   "cell_type": "code",
   "execution_count": 13,
   "metadata": {},
   "outputs": [],
   "source": [
    "for (index, row) in enumerate(df.duplicated()):\n",
    "    if not row:\n",
    "        continue\n",
    "    print(f\"Record {index} has duplications\")"
   ]
  },
  {
   "cell_type": "markdown",
   "metadata": {},
   "source": [
    "## Data analysis\n",
    "Place your **data analysis** code and documentation within this section.\n",
    "- Perform at least 5 different statistical or other analyses of different aspects of the data.\n",
    "    - Your analyses must be specific and relevant to your chosen data set and show interesting aspects of it.\n",
    "    - Include at least one analysis that includes grouping rows by a shared attribute and performing some kind of statistical analysis on each group.\n",
    "    - Sort the data in at least 1 of your analyses, but sort on its own does not constitute an analysis on its own.\n",
    "- Keep each of your Code cells short and focused on a single task.\n",
    "- Include a Markdown cell above each Code cell that describes what task the code within the Code cell is performing.\n",
    "- Make as many code cells as you need to complete the analysis - a few have been created for you to start with."
   ]
  },
  {
   "cell_type": "markdown",
   "metadata": {},
   "source": [
    "1. <u>Average `Book Value` of gold stored in a facility for the latest month</u>. The latest records were created on `2024-01-31`. So we retrive records created on that date and calculate average. It turns out each facility on average stores more than 1.8billion dollars!"
   ]
  },
  {
   "cell_type": "code",
   "execution_count": 14,
   "metadata": {},
   "outputs": [
    {
     "name": "stdout",
     "output_type": "stream",
     "text": [
      "The mean value is 1820071516.54 USD.\n"
     ]
    }
   ],
   "source": [
    "# Retrive records created on `2024-01-31`\n",
    "records = df[ \n",
    "    (df[\"Record Date\"] == \"2024-01-31\") \n",
    "    & (df[\"Form Description\"] == \"Gold Bullion\")\n",
    "][\"Book Value\"]\n",
    "\n",
    "# There are 6 Locations.\n",
    "print(\"The mean value is %.2f USD.\" % (records.sum() / 6))"
   ]
  },
  {
   "cell_type": "markdown",
   "metadata": {},
   "source": [
    "2. <u>Standard deviation of `Book Value` stored in `West Point, NY`</u>. It turns out the standard deviation is about `0.00` USD. This means there is no net flow of gold to or from vault `West Point, NY` in over 8 years!"
   ]
  },
  {
   "cell_type": "code",
   "execution_count": 15,
   "metadata": {},
   "outputs": [
    {
     "name": "stdout",
     "output_type": "stream",
     "text": [
      "The standard deviation is 0.00 USD.\n"
     ]
    }
   ],
   "source": [
    "sd = df[ df[\"Location Description\"] == \"West Point, NY\" ][\"Book Value\"].std()\n",
    "\n",
    "print(\"The standard deviation is %.2f USD.\" % sd)"
   ]
  },
  {
   "cell_type": "markdown",
   "metadata": {},
   "source": [
    "3. <u>The least value of gold bullion stored in a facility in 2024</u>. It turns out that the least amount of gold coins stored in one facility has only a value of 81462.40 USD, a tiny portion of the average booking value in one facility above!"
   ]
  },
  {
   "cell_type": "code",
   "execution_count": 16,
   "metadata": {},
   "outputs": [
    {
     "name": "stdout",
     "output_type": "stream",
     "text": [
      "The minimum value stored is 84162.40 USD.\n"
     ]
    }
   ],
   "source": [
    "# Retrive records created on `2024-01-31`.\n",
    "records = df[ \n",
    "    (df[\"Record Date\"] == \"2024-01-31\")\n",
    "    & (df[\"Form Description\"] == \"Gold Bullion\")\n",
    "]\n",
    "\n",
    "# Find the location with the minimum value.\n",
    "minimum = records[\"Book Value\"].min()\n",
    "\n",
    "print(\"The minimum value stored is %.2f USD.\" % minimum)"
   ]
  },
  {
   "cell_type": "markdown",
   "metadata": {},
   "source": [
    "4. <u>The second largest book value of gold bullion stored in a facility in January 2024</u>. The second largest value found is about 2.3billion USD, much larger than the minimum found by the previous code and slightly larger than the average booking value stored in one facility. This implies the maximum book value could be much more than the average in order to balance the minimum found in the previous code."
   ]
  },
  {
   "cell_type": "code",
   "execution_count": 18,
   "metadata": {},
   "outputs": [
    {
     "name": "stdout",
     "output_type": "stream",
     "text": [
      "The second largest book value is 2282841677.17 USD.\n"
     ]
    }
   ],
   "source": [
    "# Retrive records created on `2024-01-31`.\n",
    "records = df[ \n",
    "    (df[\"Record Date\"] == \"2024-01-31\")\n",
    "    & (df[\"Form Description\"] == \"Gold Bullion\")\n",
    "]\n",
    "\n",
    "# Sort records.\n",
    "records = records.sort_values(by=\"Book Value\", ascending=False)\n",
    "\n",
    "# Get second largest value.\n",
    "val = records.loc[records.first_valid_index() + 1][\"Book Value\"]\n",
    "\n",
    "print(\"The second largest book value is %.2f USD.\" % val)"
   ]
  },
  {
   "cell_type": "markdown",
   "metadata": {},
   "source": [
    "5. <u>The range of booking value of gold coins in `Federal Reserve Banks - Display` over the entire time range</u>. The range found is 853.45 USD, a value much smaller than the book of gold coin stored in that facility (which is about 15936 USD). This implies that there does not have much net flow of gold coins into or out of this facility."
   ]
  },
  {
   "cell_type": "code",
   "execution_count": 19,
   "metadata": {},
   "outputs": [
    {
     "name": "stdout",
     "output_type": "stream",
     "text": [
      "The range is 853.45 USD.\n"
     ]
    }
   ],
   "source": [
    "# Retrive records of gold coins in `Federal Reserve Banks - Display`.\n",
    "records = df[ \n",
    "    (df[\"Form Description\"] == \"Gold Coins\")\n",
    "    & (df[\"Location Description\"] == \"Federal Reserve Banks - Display\")\n",
    "][\"Book Value\"]\n",
    "\n",
    "print(\"The range is %.2f USD.\" % (records.max() - records.min()))"
   ]
  },
  {
   "cell_type": "markdown",
   "metadata": {},
   "source": [
    "## Data visualization\n",
    "In this section, you will create a few **visualizations** that show some of the insights you have gathered from this data.\n",
    "- Create at least 5 different visualizations, where each visualization shows different insights into the data.\n",
    "- Use at least 3 different visualization types (e.g. bar charts, line charts, stacked area charts, pie charts, etc)\n",
    "- Create a Markdown cell and a Code cell for each, where you explain and show the visualizations, respectively.\n",
    "- Create as many additional cells as you need to prepare the data for the visualizations."
   ]
  },
  {
   "cell_type": "markdown",
   "metadata": {},
   "source": [
    "1. <u>Distribution of gold among locations in January, 2024\"</u>. Figure 1 shows that most gold are stored not in `Federal Reserve Banks` (i.e., `Federal Reserve Banks - NY Vault` and `Federal Reserve Banks - Display`) but in the facility in `Fort Knox, KY`. In fact, over 90% of the gold are specific deep storages, and the gold used to make coins stored in other places (`All Locations- Coins, blanks, miscellaneous`) and in category `Federal Reserve Banks - Display` consist of even less than 2% of the total value of gold stored."
   ]
  },
  {
   "cell_type": "code",
   "execution_count": 20,
   "metadata": {},
   "outputs": [
    {
     "data": {
      "text/plain": [
       "<Axes: title={'center': 'Distribution of Value of Gold Stored in Each Location'}>"
      ]
     },
     "execution_count": 20,
     "metadata": {},
     "output_type": "execute_result"
    },
    {
     "data": {
      "image/png": "[encoded data removed]",
      "text/plain": [
       "<Figure size 640x480 with 1 Axes>"
      ]
     },
     "metadata": {},
     "output_type": "display_data"
    }
   ],
   "source": [
    "# Get the records created at `2024-01-31`.\n",
    "records = df[\n",
    "    df[\"Record Date\"] == \"2024-01-31\"\n",
    "]\n",
    "\n",
    "# Extract and sort data\n",
    "fig1_data = records.groupby(\"Location Description\") \\\n",
    "                   .agg({\"sum\"})\n",
    "fig1_data = fig1_data.sort_values(by=(\"Book Value\", \"sum\"), ascending=False)\n",
    "\n",
    "# Generate plot\n",
    "fig1_data.plot(kind=\"pie\", \n",
    "               title=\"Distribution of Value of Gold Stored in Each Location\", \n",
    "               y=\"Book Value\", \n",
    "               legend=False, \n",
    "               autopct=lambda x: (\"{:.2f}%\".format(x) if x >= 1 else \"< 1 %\"), \n",
    "               fontsize=4.5, \n",
    "               ylabel=\"\")"
   ]
  },
  {
   "cell_type": "markdown",
   "metadata": {},
   "source": [
    "2. <u>Distribution of value of gold in each type of facility in January, 2024</u>. Figure 2 shows that over 90% of book value of gold comes from US national deep storage (`Mint Held Gold - Deep Storage`), the federal reserve holds most of the rest, while the gold in local bank or other places (i.e., `Mint Held Gold - Working Stock`, definition see [Status Report of U.S. Government Gold Reserve](https://www.fiscal.treasury.gov/reports-statements/gold-report/21-02.html)) are only a tiny portion of US gold storage."
   ]
  },
  {
   "cell_type": "code",
   "execution_count": 21,
   "metadata": {},
   "outputs": [
    {
     "data": {
      "text/plain": [
       "<Axes: title={'center': 'Distribution of Value of Gold Stored in each Type of Facility'}>"
      ]
     },
     "execution_count": 21,
     "metadata": {},
     "output_type": "execute_result"
    },
    {
     "data": {
      "image/png": "[encoded data removed]",
      "text/plain": [
       "<Figure size 640x480 with 1 Axes>"
      ]
     },
     "metadata": {},
     "output_type": "display_data"
    }
   ],
   "source": [
    "# Get the records created at `2024-01-31`.\n",
    "records = df[\n",
    "    df[\"Record Date\"] == \"2024-01-31\"\n",
    "]\n",
    "\n",
    "# Extract and sort data\n",
    "fig2_data = records.groupby(\"Facility Description\") \\\n",
    "                   .agg({\"sum\"})\n",
    "fig2_data = fig2_data.sort_values(by=(\"Book Value\", \"sum\"), ascending=False)\n",
    "\n",
    "# Generate plot\n",
    "fig2_data.plot(kind=\"pie\",\n",
    "               title=\"Distribution of Value of Gold Stored in each Type of Facility\", \n",
    "               y=\"Book Value\", \n",
    "               legend=False, \n",
    "               autopct=lambda x: (\"{:.2f}%\".format(x)), \n",
    "               ylabel=\"\")"
   ]
  },
  {
   "cell_type": "markdown",
   "metadata": {},
   "source": [
    "3. <u>Book value of gold bullions stored in each facility in January, 2024</u>. Figure 3 the book value of gold bullions for each facility on a logrithmic level. This shows that the book value of gold in each deep storage are all on $10^9$ order, and the gold stored in `Federal Reserve Banks - NY Vault` and `All Locations- Coins, blanks, miscellaneous` are on $10^8$ order. It also shows how much less the book value in `Federal Reserve Banks - Display` compared to that of other places (e.g., about 0.1% of value in `All Locations- Coins, blanks, miscellaneous` and 0.0016% of value in `Fort Knox, KY`)."
   ]
  },
  {
   "cell_type": "code",
   "execution_count": 22,
   "metadata": {},
   "outputs": [
    {
     "data": {
      "image/png": "[encoded data removed]",
      "text/plain": [
       "<Figure size 640x480 with 1 Axes>"
      ]
     },
     "metadata": {},
     "output_type": "display_data"
    }
   ],
   "source": [
    "# Get the records created at `2024-01-31`.\n",
    "records = df[\n",
    "    df[\"Record Date\"] == \"2024-01-31\"\n",
    "]\n",
    "\n",
    "fig3_data = fig1_data[::-1]\n",
    "\n",
    "fig3 = fig3_data.plot.barh(y=\"Book Value\", \n",
    "                           title=\"Book Value of Gold Stored in Each Location (USD)\", \n",
    "                           legend=False, \n",
    "                           logx=True, \n",
    "                           xlabel=\"Book Value (USD)\")\n",
    "\n",
    "# Add actual book value for each bar\n",
    "annotations = fig3.bar_label(fig3.containers[0])"
   ]
  },
  {
   "cell_type": "markdown",
   "metadata": {},
   "source": [
    "4. <u>Average ounce of gold bullion stored in each facility in 2022</u>. Figure 4 displays a similar pattern of the book values in each facility shown in figure 3 - 3 deep storages stores has the most gold stored, `Federal Reserve Banks - NY Vault` and \"all locations\" in between, and `Federal Reserve Banks - Display` holds much less gold than others. This implies that the book value of gold in a storage could be proportional to the ounces of gold it stores."
   ]
  },
  {
   "cell_type": "code",
   "execution_count": 23,
   "metadata": {},
   "outputs": [
    {
     "data": {
      "image/png": "[encoded data removed]",
      "text/plain": [
       "<Figure size 640x480 with 1 Axes>"
      ]
     },
     "metadata": {},
     "output_type": "display_data"
    }
   ],
   "source": [
    "# Get the records created in 2022.\n",
    "records = df[\n",
    "    df[\"Calendar Year\"] == 2022\n",
    "][[\"Location Description\", \"Fine Troy Ounces\"]]\n",
    "\n",
    "# Extract and sort data\n",
    "fig4_data = records.groupby(\"Location Description\") \\\n",
    "                   .agg({\"mean\"})\n",
    "fig4_data = fig4_data.sort_values(by=(\"Fine Troy Ounces\", \"mean\"), ascending=True)\n",
    "\n",
    "fig4 = fig4_data.plot.barh(y=\"Fine Troy Ounces\", \n",
    "                           title=\"Average Ounce of Stored Gold in Each Location (USD)\", \n",
    "                           legend=False, \n",
    "                           logx=True, \n",
    "                           xlabel=\"Fine Troy Ounces\")\n",
    "\n",
    "# Add actual book value for each bar\n",
    "annotations = fig4.bar_label(fig4.containers[0])"
   ]
  },
  {
   "cell_type": "markdown",
   "metadata": {},
   "source": [
    "5. <u>Unit price of gold bullion for each month in 2020</u>. Surpringly, figure 5 shows that the unit price of gold bullion is exactly the same for the entire 2022 (in fact, it is identical upto 4 decimal places)! While this is unusual, I believe the result is valid for:\n",
    "+ the data validity was verified in [Data Munging](#data-munging);\n",
    "+ the data is from [Fiscal Data](https://fiscaldata.treasury.gov), which is created by Department of the Treasury and the Bureau of the Fiscal Service."
   ]
  },
  {
   "cell_type": "code",
   "execution_count": 24,
   "metadata": {},
   "outputs": [
    {
     "data": {
      "text/plain": [
       "Calendar Month Number\n",
       "1     42.2222\n",
       "2     42.2222\n",
       "3     42.2222\n",
       "4     42.2222\n",
       "5     42.2222\n",
       "6     42.2222\n",
       "7     42.2222\n",
       "8     42.2222\n",
       "9     42.2222\n",
       "10    42.2222\n",
       "11    42.2222\n",
       "12    42.2222\n",
       "Name: Unit Price, dtype: float64"
      ]
     },
     "execution_count": 24,
     "metadata": {},
     "output_type": "execute_result"
    },
    {
     "data": {
      "image/png": "[encoded data removed]",
      "text/plain": [
       "<Figure size 640x480 with 1 Axes>"
      ]
     },
     "metadata": {},
     "output_type": "display_data"
    }
   ],
   "source": [
    "# Get the records created in 2020.\n",
    "records = df[\n",
    "    (df[\"Calendar Year\"] == 2020)\n",
    "    & (df[\"Form Description\"] == \"Gold Bullion\")\n",
    "][[\"Calendar Month Number\", \"Fine Troy Ounces\", \"Book Value\"]]\n",
    "\n",
    "# Find unit price (total book value / Fine Troy Ounces) for each month.\n",
    "fig5_data = records.groupby(\"Calendar Month Number\") \\\n",
    "                   .agg({\"sum\"})\n",
    "fig5_data[\"Unit Price\"] = fig5_data[\"Book Value\"] / fig5_data[\"Fine Troy Ounces\"]\n",
    "\n",
    "fig5_data.plot(y=\"Unit Price\", \n",
    "               title=\"Unit Price of Gold Bullion over 2020\", \n",
    "               ylabel=\"Unit Price of Gold Bullion (USD)\", \n",
    "               xticks=fig5_data.index)\n",
    "fig5_data[\"Unit Price\"]"
   ]
  }
 ],
 "metadata": {
  "kernelspec": {
   "display_name": "Python 3",
   "language": "python",
   "name": "python3"
  },
  "language_info": {
   "codemirror_mode": {
    "name": "ipython",
    "version": 3
   },
   "file_extension": ".py",
   "mimetype": "text/x-python",
   "name": "python",
   "nbconvert_exporter": "python",
   "pygments_lexer": "ipython3",
   "version": "3.11.5"
  }
 },
 "nbformat": 4,
 "nbformat_minor": 4
}
